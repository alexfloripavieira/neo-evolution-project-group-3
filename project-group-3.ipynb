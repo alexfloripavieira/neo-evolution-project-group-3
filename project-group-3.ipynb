{
  "cells": [
    {
      "cell_type": "markdown",
      "metadata": {
        "id": "NdZ7eU4zuyql"
      },
      "source": [
        "# Projeto - NeoEvolution - Exploração de base de dados Kaggle.\n",
        "\n",
        "Grupo 03:\n",
        "- Alexsander Vieira\n",
        "- Bruno Crestani\n",
        "- Vitor Hugo Gomes\n",
        "- Mariane Scheffer Nazaro"
      ]
    },
    {
      "cell_type": "markdown",
      "metadata": {
        "id": "0-oaHu-duyqr"
      },
      "source": [
        "Importando as bibliotecas"
      ]
    },
    {
      "cell_type": "code",
      "execution_count": null,
      "metadata": {
        "id": "LIPoC9F_uyqt"
      },
      "outputs": [],
      "source": [
        "import pandas as pd\n",
        "import numpy as np\n",
        "import seaborn as sns\n",
        "import matplotlib.pyplot as plt"
      ]
    },
    {
      "cell_type": "markdown",
      "metadata": {
        "id": "v__JKr3Fuyqu"
      },
      "source": [
        "Importando o csv "
      ]
    },
    {
      "cell_type": "code",
      "execution_count": null,
      "metadata": {
        "id": "VbYdk57ruyqv"
      },
      "outputs": [],
      "source": [
        "#This dataset contains audio statistics of the top 2000 tracks on Spotify from 2000-2019.\n",
        "#The data contains about 18 columns each describing the track and it's qualities.\n",
        "df = pd.read_csv('../neo-evolution-project-group-3/songs_normalize.csv')"
      ]
    },
    {
      "cell_type": "markdown",
      "metadata": {
        "id": "sxNrnRib79fF"
      },
      "source": [
        "#Exploração dos dados"
      ]
    },
    {
      "cell_type": "code",
      "execution_count": null,
      "metadata": {
        "colab": {
          "base_uri": "https://localhost:8080/",
          "height": 0
        },
        "id": "YPsidKmCuyqv",
        "outputId": "92bf4b41-7ce7-46dc-c744-003a94604946",
        "scrolled": true
      },
      "outputs": [],
      "source": [
        "df.head()"
      ]
    },
    {
      "cell_type": "code",
      "execution_count": null,
      "metadata": {
        "colab": {
          "base_uri": "https://localhost:8080/",
          "height": 0
        },
        "id": "fcketBT1uyqx",
        "outputId": "96e026d2-8dea-4005-b779-b22d19068e31"
      },
      "outputs": [],
      "source": [
        "df.tail()"
      ]
    },
    {
      "cell_type": "markdown",
      "metadata": {
        "id": "NK8zik5Iuyqy"
      },
      "source": [
        "# Descrição das colunas do DataFrame\n",
        "\n",
        "duration_ms: Duration of the track in milliseconds \n",
        "   \n",
        "explicit: Explicit content  \n",
        "  \n",
        "year: Release Year of the track\n",
        "    \n",
        "popularity: The higher the value the more popular the song is \n",
        "   \n",
        "danceability: A value of 0.0 is least danceable and 1.0 is most danceable  \n",
        "   \n",
        "energy: Represents a perceptual measure of intensity and activity  \n",
        "  \n",
        "key: The key the track is in  \n",
        "  \n",
        "loudness: The overall loudness of a track in decibels (dB)  \n",
        "  \n",
        "mode: The modality (major or minor) of a track  \n",
        "  \n",
        "speechiness: Speechiness detects the presence of spoken words in a track  \n",
        "  \n",
        "acousticness: A confidence measure from 0.0 to 1.0 of whether the track is acoustic  \n",
        "  \n",
        "instrumentalness: Predicts whether a track contains no vocals  \n",
        "  \n",
        "liveness: Detects the presence of an audience in the recording  \n",
        "  \n",
        "valence: A measure from 0.0 to 1.0 describing the musical positiveness conveyed by a track  \n",
        "  \n",
        "tempo: The overall estimated tempo of a track in beats per minute (BPM) \n",
        "   \n",
        "genre: Genre of the track  "
      ]
    },
    {
      "cell_type": "code",
      "execution_count": null,
      "metadata": {
        "colab": {
          "base_uri": "https://localhost:8080/"
        },
        "id": "voKEbnCruyqz",
        "outputId": "2e50187c-942b-475e-d379-9c9c947c7943",
        "scrolled": true
      },
      "outputs": [],
      "source": [
        "df.info()"
      ]
    },
    {
      "cell_type": "code",
      "execution_count": null,
      "metadata": {
        "colab": {
          "base_uri": "https://localhost:8080/",
          "height": 0
        },
        "id": "dpC81trIuyq0",
        "outputId": "f7ec7f4b-0af3-4dae-8cbd-dea88133d0d7"
      },
      "outputs": [],
      "source": [
        "df.describe()"
      ]
    },
    {
      "cell_type": "markdown",
      "metadata": {
        "id": "8n9e_osg8CmB"
      },
      "source": [
        "#Limpeza dos dados"
      ]
    },
    {
      "cell_type": "code",
      "execution_count": null,
      "metadata": {
        "colab": {
          "base_uri": "https://localhost:8080/"
        },
        "id": "y4YFa8REuyq1",
        "outputId": "cc751a84-8c9f-4e54-95de-36ddfa7b1fc2"
      },
      "outputs": [],
      "source": [
        "df.isnull().sum()"
      ]
    },
    {
      "cell_type": "code",
      "execution_count": null,
      "metadata": {
        "colab": {
          "base_uri": "https://localhost:8080/"
        },
        "id": "JhNz__5Huyq1",
        "outputId": "9176e99b-b4b1-4615-e773-67eaa4d7b3c7"
      },
      "outputs": [],
      "source": [
        "df.duplicated()"
      ]
    },
    {
      "cell_type": "code",
      "execution_count": null,
      "metadata": {
        "colab": {
          "base_uri": "https://localhost:8080/",
          "height": 661
        },
        "id": "kuJbEJkPuyq2",
        "outputId": "4784726c-7594-45cf-9b9e-853ca0cd1d7f"
      },
      "outputs": [],
      "source": [
        "\n",
        "df[df.duplicated(subset=['artist', 'song', 'year'], keep=False)]"
      ]
    },
    {
      "cell_type": "code",
      "execution_count": null,
      "metadata": {
        "colab": {
          "base_uri": "https://localhost:8080/",
          "height": 765
        },
        "id": "Y0GQGkwduyq3",
        "outputId": "95230e5f-0746-4c12-ab5f-c5a06a999d45"
      },
      "outputs": [],
      "source": [
        "df_nao_dup=df.drop_duplicates(subset=['artist', 'song', 'year'], keep='first')\n",
        "df_nao_dup"
      ]
    },
    {
      "cell_type": "code",
      "execution_count": null,
      "metadata": {
        "colab": {
          "base_uri": "https://localhost:8080/"
        },
        "id": "4QdJY4fDuyq5",
        "outputId": "f9fdfb8a-4906-4b9f-d991-004132ed7493"
      },
      "outputs": [],
      "source": [
        "df_nao_dup['genre'].value_counts()"
      ]
    },
    {
      "cell_type": "code",
      "execution_count": null,
      "metadata": {
        "colab": {
          "base_uri": "https://localhost:8080/",
          "height": 765
        },
        "id": "l7ePyCcWuyq6",
        "outputId": "86862b8f-f014-4310-9986-4d9c64315ad2"
      },
      "outputs": [],
      "source": [
        "df_set_true = df_nao_dup[df_nao_dup['genre'] == 'set()']\n",
        "df_clean = df_nao_dup.drop(df_nao_dup[df_nao_dup['genre'] == 'set()'].index, inplace=False)\n",
        "df_clean"
      ]
    },
    {
      "cell_type": "code",
      "execution_count": null,
      "metadata": {
        "colab": {
          "base_uri": "https://localhost:8080/"
        },
        "id": "Cuuf9r6Euyq7",
        "outputId": "eecc33eb-ef92-4e59-a5d2-34f6b3727b92"
      },
      "outputs": [],
      "source": [
        "#Retirar os anos da base com amostras muito baixas\n",
        "df_1998 = df_clean[df_clean['year'] == 1998]\n",
        "df_clean1998 = df_clean.drop(df_clean[df_clean['year'] == 1998].index, inplace=False)\n",
        "df_clean1998['year'].value_counts()\n",
        "\n",
        "df_1999 = df_clean1998[df_clean1998['year'] == 1999]\n",
        "df_clean1999 = df_clean1998.drop(df_clean1998[df_clean1998['year'] == 1999].index, inplace=False)\n",
        "df_clean1999['year'].value_counts()\n",
        "\n",
        "df_2020 = df_clean1999[df_clean1999['year'] == 2020]\n",
        "df_clean2020 = df_clean1999.drop(df_clean1999[df_clean1999['year'] == 2020].index, inplace=False)\n",
        "df_clean2020['year'].value_counts()"
      ]
    },
    {
      "cell_type": "code",
      "execution_count": null,
      "metadata": {
        "id": "hH0fQqPK3gD_"
      },
      "outputs": [],
      "source": [
        "#normalizar\n",
        "df_normalized = df_clean2020"
      ]
    },
    {
      "cell_type": "markdown",
      "metadata": {
        "id": "vHKCABkp50vX"
      },
      "source": [
        "# H1: Há correlações da popularidade com alguma caracterísca específica das músicas?"
      ]
    },
    {
      "cell_type": "code",
      "execution_count": null,
      "metadata": {
        "colab": {
          "base_uri": "https://localhost:8080/",
          "height": 850
        },
        "id": "2esvocJ9uyq7",
        "outputId": "88d22490-f712-41bf-9308-d4b56d19865c",
        "scrolled": false
      },
      "outputs": [],
      "source": [
        "sns.pairplot(df_normalized[['danceability', 'energy','loudness', 'speechiness', 'acousticness', 'instrumentalness', 'liveness', 'popularity']])"
      ]
    },
    {
      "cell_type": "code",
      "execution_count": null,
      "metadata": {
        "colab": {
          "base_uri": "https://localhost:8080/",
          "height": 583
        },
        "id": "b3xvWs1s7B16",
        "outputId": "26225eec-6237-47ea-88e8-725a042a20ed"
      },
      "outputs": [],
      "source": [
        "df_normalized.corr()"
      ]
    },
    {
      "cell_type": "code",
      "execution_count": null,
      "metadata": {
        "colab": {
          "base_uri": "https://localhost:8080/",
          "height": 604
        },
        "id": "S3Y0K4WB5nQB",
        "outputId": "4cae673b-0652-423a-f1e4-e851dbe3a143"
      },
      "outputs": [],
      "source": [
        "plt.figure(figsize=(20,12))\n",
        "sns.heatmap(df_normalized.corr(), annot=True, cmap=\"YlGnBu\", annot_kws={\"size\":10})\n",
        "plt.title('Correlação entre as variáveis numéricas', size = 20)"
      ]
    },
    {
      "cell_type": "code",
      "execution_count": null,
      "metadata": {
        "colab": {
          "base_uri": "https://localhost:8080/",
          "height": 392
        },
        "id": "0abDuhF3_xYT",
        "outputId": "9341a7a4-878a-4a1f-d6e3-b60eba94bef8"
      },
      "outputs": [],
      "source": [
        "sns.pairplot(df_normalized[['danceability', 'valence']])"
      ]
    },
    {
      "cell_type": "code",
      "execution_count": null,
      "metadata": {
        "colab": {
          "base_uri": "https://localhost:8080/"
        },
        "id": "WCC8TdlGuyq7",
        "outputId": "8a76d531-4f22-4df4-8e11-fa94c595308a"
      },
      "outputs": [],
      "source": [
        "genre = df_normalized['genre'].value_counts()\n",
        "\n",
        "print(genre)"
      ]
    },
    {
      "cell_type": "markdown",
      "metadata": {
        "id": "vr2ULZ0Huyq8"
      },
      "source": [
        "# H2 A duração média das músicas reduziram ao longo do tempo?"
      ]
    },
    {
      "cell_type": "code",
      "execution_count": null,
      "metadata": {
        "colab": {
          "base_uri": "https://localhost:8080/",
          "height": 388
        },
        "id": "d8tsuEUTuyq8",
        "outputId": "30a54f23-4f9d-49f7-8d68-81220741e9ce",
        "scrolled": false
      },
      "outputs": [],
      "source": [
        "from matplotlib.ticker import MaxNLocator\n",
        "\n",
        "sns.lmplot(data = df_normalized, x = 'year', y = 'duration_ms',line_kws={'color': 'red'})\n",
        "ax = plt.gca()\n",
        "ax.set_title(\"Duração da música com o passar dos anos\", fontsize=18)\n",
        "ax.set_xlabel(\"Anos\")\n",
        "ax.set_ylabel(\"Duração da música (ms)\")\n",
        "ax.xaxis.set_major_locator(MaxNLocator(integer=True))\n",
        "plt.show()"
      ]
    },
    {
      "cell_type": "markdown",
      "metadata": {
        "id": "jBWxEFY1Bh27"
      },
      "source": [
        "# H3 Os artistas mais populares possuem consistência no topo?\n"
      ]
    },
    {
      "cell_type": "code",
      "execution_count": null,
      "metadata": {
        "colab": {
          "base_uri": "https://localhost:8080/"
        },
        "id": "iDBrI8dGuyq8",
        "outputId": "ef44733c-8713-493f-aea3-35d039e208b0"
      },
      "outputs": [],
      "source": [
        "artist = df_normalized['artist'].value_counts()\n",
        "print(artist)"
      ]
    },
    {
      "cell_type": "code",
      "execution_count": null,
      "metadata": {
        "colab": {
          "base_uri": "https://localhost:8080/"
        },
        "id": "Ib52IyAluyq9",
        "outputId": "e6b276c6-ddb9-4b26-908b-ec3363295a08"
      },
      "outputs": [],
      "source": [
        "top_artists = artist.head(5).index\n",
        "print(top_artists)\n",
        "\n",
        "top_genre = genre.head(5).index\n",
        "print(top_genre)"
      ]
    },
    {
      "cell_type": "code",
      "execution_count": null,
      "metadata": {
        "colab": {
          "base_uri": "https://localhost:8080/"
        },
        "id": "W_5NOdGCuyq9",
        "outputId": "d36a832f-7091-4018-99a7-0046e21eefa5",
        "scrolled": false
      },
      "outputs": [],
      "source": [
        "song_by_year = df_normalized.groupby(['year']).size()\n",
        "song_by_year\n"
      ]
    },
    {
      "cell_type": "code",
      "execution_count": null,
      "metadata": {
        "colab": {
          "base_uri": "https://localhost:8080/",
          "height": 313
        },
        "id": "GkNgcjiFuyq9",
        "outputId": "e88c06ba-9e4d-4b06-b806-8ef61ab36345"
      },
      "outputs": [],
      "source": [
        "song_by_year.plot(kind = 'bar')"
      ]
    },
    {
      "cell_type": "code",
      "execution_count": null,
      "metadata": {
        "colab": {
          "base_uri": "https://localhost:8080/",
          "height": 237
        },
        "id": "mBv8d75Puyq-",
        "outputId": "e8163ad4-9369-4d53-87d1-9e0f93ed4bbf",
        "scrolled": false
      },
      "outputs": [],
      "source": [
        "artist_popularity = df_normalized.groupby('artist')[['artist','popularity']].sum().sort_values('popularity',ascending=False)\n",
        "artist_popularity[:5]"
      ]
    },
    {
      "cell_type": "code",
      "execution_count": null,
      "metadata": {
        "colab": {
          "base_uri": "https://localhost:8080/",
          "height": 767
        },
        "id": "n6K2izYwuyq_",
        "outputId": "b6dfb631-66e1-467f-e67c-357908dde216"
      },
      "outputs": [],
      "source": [
        "top_10_artists = df_normalized['artist'].value_counts().head(10).index\n",
        "print(top_10_artists)\n",
        "\n",
        "list_top_10_artists= df_normalized[df_normalized['artist'].isin(top_10_artists)]\n",
        "list_top_10_artists"
      ]
    },
    {
      "cell_type": "code",
      "execution_count": null,
      "metadata": {
        "colab": {
          "base_uri": "https://localhost:8080/",
          "height": 387
        },
        "id": "UawGB40quyrA",
        "outputId": "f5f521ef-0297-47aa-e1ef-ac3258e2c194",
        "scrolled": false
      },
      "outputs": [],
      "source": [
        "sns.lmplot(data=list_top_5_artists, x='year', y='popularity', hue='artist')"
      ]
    },
    {
      "cell_type": "code",
      "execution_count": null,
      "metadata": {
        "colab": {
          "base_uri": "https://localhost:8080/",
          "height": 175
        },
        "id": "oQsKnZ3FuyrA",
        "outputId": "ec00343c-41b7-4c07-e61b-59059e40de23",
        "scrolled": true
      },
      "outputs": [],
      "source": [
        "for i in ['popularity']:\n",
        "    g = sns.FacetGrid(list_top_5_artists, col=\"artist\")\n",
        "    g.map_dataframe(sns.lineplot, x='year', y=i)"
      ]
    },
    {
      "cell_type": "code",
      "execution_count": null,
      "metadata": {
        "colab": {
          "base_uri": "https://localhost:8080/",
          "height": 96
        },
        "id": "yU_AL-wTuyrA",
        "outputId": "7b65be71-ccde-4ddd-a1b6-814d465621c1",
        "scrolled": true
      },
      "outputs": [],
      "source": [
        "for i in ['popularity']:\n",
        "    g = sns.FacetGrid(list_top_10_artists, col=\"artist\")\n",
        "    g.map_dataframe(sns.lineplot, x='year', y=i)"
      ]
    }
  ],
  "metadata": {
    "colab": {
      "name": "project-group-3.ipynb",
      "provenance": []
    },
    "kernelspec": {
      "display_name": "Python 3.8.10 64-bit",
      "language": "python",
      "name": "python3"
    },
    "language_info": {
      "codemirror_mode": {
        "name": "ipython",
        "version": 3
      },
      "file_extension": ".py",
      "mimetype": "text/x-python",
      "name": "python",
      "nbconvert_exporter": "python",
      "pygments_lexer": "ipython3",
      "version": "3.8.10"
    },
    "vscode": {
      "interpreter": {
        "hash": "916dbcbb3f70747c44a77c7bcd40155683ae19c65e1c03b4aa3499c5328201f1"
      }
    }
  },
  "nbformat": 4,
  "nbformat_minor": 0
}
