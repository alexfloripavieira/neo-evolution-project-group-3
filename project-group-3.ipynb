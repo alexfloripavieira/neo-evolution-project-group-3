{
  "cells": [
    {
      "cell_type": "markdown",
      "metadata": {
        "id": "NdZ7eU4zuyql"
      },
      "source": [
        "# Projeto - NeoEvolution - Exploração de base de dados Kaggle.\n",
        "\n",
        "Grupo 03:\n",
        "- Alexsander Vieira\n",
        "- Bruno Crestani\n",
        "- Vitor Hugo Gomes\n",
        "- Mariane Scheffer Nazaro"
      ]
    },
    {
      "cell_type": "markdown",
      "metadata": {
        "id": "0-oaHu-duyqr"
      },
      "source": [
        "Importando as bibliotecas"
      ]
    },
    {
      "cell_type": "code",
      "execution_count": null,
      "metadata": {
        "id": "LIPoC9F_uyqt"
      },
      "outputs": [],
      "source": [
        "import pandas as pd\n",
        "import numpy as np\n",
        "import seaborn as sns\n",
        "import matplotlib.pyplot as plt"
      ]
    },
    {
      "cell_type": "markdown",
      "metadata": {
        "id": "v__JKr3Fuyqu"
      },
      "source": [
        "Importando o csv "
      ]
    },
    {
      "cell_type": "code",
      "execution_count": null,
      "metadata": {
        "id": "VbYdk57ruyqv"
      },
      "outputs": [],
      "source": [
        "df = pd.read_csv('../neo-evolution-project-group-3/songs_normalize.csv')"
      ]
    },
    {
      "cell_type": "markdown",
      "metadata": {
        "id": "sxNrnRib79fF"
      },
      "source": [
        "#Exploração dos dados"
      ]
    },
    {
      "cell_type": "code",
      "execution_count": null,
      "metadata": {
        "colab": {
          "base_uri": "https://localhost:8080/",
          "height": 320
        },
        "id": "YPsidKmCuyqv",
        "outputId": "cb02c7d8-b60d-4e7e-fea6-46a43996abb6",
        "scrolled": true
      },
      "outputs": [],
      "source": [
        "df.head()"
      ]
    },
    {
      "cell_type": "code",
      "execution_count": null,
      "metadata": {
        "colab": {
          "base_uri": "https://localhost:8080/",
          "height": 354
        },
        "id": "fcketBT1uyqx",
        "outputId": "0b560dd7-6a0d-47d7-839d-884ff1c3fea8"
      },
      "outputs": [],
      "source": [
        "df.tail()"
      ]
    },
    {
      "cell_type": "markdown",
      "metadata": {
        "id": "NK8zik5Iuyqy"
      },
      "source": [
        "# Descrição das colunas do DataFrame\n",
        "\n",
        "duration_ms: Duration of the track in milliseconds \n",
        "   \n",
        "explicit: Explicit content  \n",
        "  \n",
        "year: Release Year of the track\n",
        "    \n",
        "popularity: The higher the value the more popular the song is \n",
        "   \n",
        "danceability: A value of 0.0 is least danceable and 1.0 is most danceable  \n",
        "   \n",
        "energy: Represents a perceptual measure of intensity and activity  \n",
        "  \n",
        "key: The key the track is in  \n",
        "  \n",
        "loudness: The overall loudness of a track in decibels (dB)  \n",
        "  \n",
        "mode: The modality (major or minor) of a track  \n",
        "  \n",
        "speechiness: Speechiness detects the presence of spoken words in a track  \n",
        "  \n",
        "acousticness: A confidence measure from 0.0 to 1.0 of whether the track is acoustic  \n",
        "  \n",
        "instrumentalness: Predicts whether a track contains no vocals  \n",
        "  \n",
        "liveness: Detects the presence of an audience in the recording  \n",
        "  \n",
        "valence: A measure from 0.0 to 1.0 describing the musical positiveness conveyed by a track  \n",
        "  \n",
        "tempo: The overall estimated tempo of a track in beats per minute (BPM) \n",
        "   \n",
        "genre: Genre of the track  "
      ]
    },
    {
      "cell_type": "code",
      "execution_count": null,
      "metadata": {
        "colab": {
          "base_uri": "https://localhost:8080/"
        },
        "id": "voKEbnCruyqz",
        "outputId": "e6e70a56-3f22-46ad-9f3c-b4067b9fff3f",
        "scrolled": true
      },
      "outputs": [],
      "source": [
        "df.info()"
      ]
    },
    {
      "cell_type": "code",
      "execution_count": null,
      "metadata": {
        "colab": {
          "base_uri": "https://localhost:8080/",
          "height": 344
        },
        "id": "dpC81trIuyq0",
        "outputId": "707d35d3-7037-4322-e196-0a8eccbe2a50"
      },
      "outputs": [],
      "source": [
        "df.describe()"
      ]
    },
    {
      "cell_type": "markdown",
      "metadata": {
        "id": "8n9e_osg8CmB"
      },
      "source": [
        "#Limpeza dos dados"
      ]
    },
    {
      "cell_type": "code",
      "execution_count": null,
      "metadata": {
        "colab": {
          "base_uri": "https://localhost:8080/"
        },
        "id": "y4YFa8REuyq1",
        "outputId": "5acec1ef-177d-4d04-b71d-601a6630ed33"
      },
      "outputs": [],
      "source": [
        "df.isnull().sum()"
      ]
    },
    {
      "cell_type": "code",
      "execution_count": null,
      "metadata": {
        "colab": {
          "base_uri": "https://localhost:8080/"
        },
        "id": "JhNz__5Huyq1",
        "outputId": "2ca67652-9032-439e-abd0-389cf9f8d109"
      },
      "outputs": [],
      "source": [
        "df.duplicated()"
      ]
    },
    {
      "cell_type": "code",
      "execution_count": null,
      "metadata": {
        "colab": {
          "base_uri": "https://localhost:8080/",
          "height": 661
        },
        "id": "kuJbEJkPuyq2",
        "outputId": "445d0f3a-8ae3-4ad1-fdca-bdaca8a23407"
      },
      "outputs": [],
      "source": [
        "\n",
        "df[df.duplicated(subset=['artist', 'song', 'year'], keep=False)]"
      ]
    },
    {
      "cell_type": "code",
      "execution_count": null,
      "metadata": {
        "colab": {
          "base_uri": "https://localhost:8080/",
          "height": 641
        },
        "id": "Y0GQGkwduyq3",
        "outputId": "2fe2aef2-7592-4f90-f47f-82a007651894"
      },
      "outputs": [],
      "source": [
        "df_nao_dup=df.drop_duplicates(subset=['artist', 'song', 'year'], keep='first')\n",
        "df_nao_dup"
      ]
    },
    {
      "cell_type": "code",
      "execution_count": null,
      "metadata": {
        "colab": {
          "base_uri": "https://localhost:8080/"
        },
        "id": "4QdJY4fDuyq5",
        "outputId": "bc13fc72-f9a5-4686-bd6d-38821a86f797"
      },
      "outputs": [],
      "source": [
        "df_nao_dup['genre'].value_counts()"
      ]
    },
    {
      "cell_type": "code",
      "execution_count": null,
      "metadata": {
        "colab": {
          "base_uri": "https://localhost:8080/",
          "height": 641
        },
        "id": "l7ePyCcWuyq6",
        "outputId": "754b78cd-4aa7-4022-cb2d-969b913097c4"
      },
      "outputs": [],
      "source": [
        "df_set_true = df_nao_dup[df_nao_dup['genre'] == 'set()']\n",
        "df_clean = df_nao_dup.drop(df_nao_dup[df_nao_dup['genre'] == 'set()'].index, inplace=False)\n",
        "df_clean"
      ]
    },
    {
      "cell_type": "code",
      "execution_count": null,
      "metadata": {
        "colab": {
          "base_uri": "https://localhost:8080/"
        },
        "id": "Cuuf9r6Euyq7",
        "outputId": "c8e93e5e-de6f-4dbc-e563-91eb216a76f6"
      },
      "outputs": [],
      "source": [
        "#Retirar os anos da base com amostras muito baixas\n",
        "df_1998 = df_clean[df_clean['year'] == 1998]\n",
        "df_clean1998 = df_clean.drop(df_clean[df_clean['year'] == 1998].index, inplace=False)\n",
        "df_clean1998['year'].value_counts()\n",
        "\n",
        "df_1999 = df_clean1998[df_clean1998['year'] == 1999]\n",
        "df_clean1999 = df_clean1998.drop(df_clean1998[df_clean1998['year'] == 1999].index, inplace=False)\n",
        "df_clean1999['year'].value_counts()\n",
        "\n",
        "df_2020 = df_clean1999[df_clean1999['year'] == 2020]\n",
        "df_clean2020 = df_clean1999.drop(df_clean1999[df_clean1999['year'] == 2020].index, inplace=False)\n",
        "df_clean2020['year'].value_counts()"
      ]
    },
    {
      "cell_type": "code",
      "execution_count": null,
      "metadata": {
        "id": "hH0fQqPK3gD_"
      },
      "outputs": [],
      "source": [
        "#normalizar\n",
        "df_normalized = df_clean2020"
      ]
    },
    {
      "cell_type": "markdown",
      "metadata": {
        "id": "vHKCABkp50vX"
      },
      "source": [
        "# H1: Quais variáveis possuem correlação com a popularidade?"
      ]
    },
    {
      "cell_type": "code",
      "execution_count": null,
      "metadata": {
        "colab": {
          "base_uri": "https://localhost:8080/",
          "height": 1000
        },
        "id": "2esvocJ9uyq7",
        "outputId": "089fe09f-f1b1-4273-d68f-3f9c96c5fb28",
        "scrolled": false
      },
      "outputs": [],
      "source": [
        "sns.pairplot(df_normalized[['danceability', 'energy','loudness', 'speechiness', 'acousticness', 'instrumentalness', 'liveness', 'popularity']])"
      ]
    },
    {
      "cell_type": "code",
      "execution_count": null,
      "metadata": {
        "colab": {
          "base_uri": "https://localhost:8080/",
          "height": 564
        },
        "id": "b3xvWs1s7B16",
        "outputId": "ad1ee5d6-6375-4362-9195-e7a336e54537"
      },
      "outputs": [],
      "source": [
        "df_normalized.corr()"
      ]
    },
    {
      "cell_type": "code",
      "execution_count": null,
      "metadata": {
        "colab": {
          "base_uri": "https://localhost:8080/",
          "height": 363
        },
        "id": "S3Y0K4WB5nQB",
        "outputId": "4a6888f7-99b1-4926-e7ed-b02f6fed4f1b"
      },
      "outputs": [],
      "source": [
        "plt.figure(figsize=(20,12))\n",
        "sns.heatmap(df_normalized.corr(), annot=True, cmap=\"YlGnBu\", annot_kws={\"size\":10})\n",
        "plt.title('Correlação entre as variáveis numéricas', size = 20)"
      ]
    },
    {
      "cell_type": "code",
      "execution_count": null,
      "metadata": {
        "colab": {
          "base_uri": "https://localhost:8080/",
          "height": 391
        },
        "id": "0abDuhF3_xYT",
        "outputId": "09e54d4a-1adf-411c-c082-0b959b3a3eed"
      },
      "outputs": [],
      "source": [
        "sns.pairplot(df_normalized[['danceability', 'valence']])"
      ]
    },
    {
      "cell_type": "code",
      "execution_count": null,
      "metadata": {
        "colab": {
          "base_uri": "https://localhost:8080/"
        },
        "id": "WCC8TdlGuyq7",
        "outputId": "f7c7faee-763f-4713-b378-9c035a8b67ec"
      },
      "outputs": [],
      "source": [
        "genre = df_normalized['genre'].value_counts()\n",
        "\n",
        "print(genre)"
      ]
    },
    {
      "cell_type": "markdown",
      "metadata": {
        "id": "vr2ULZ0Huyq8"
      },
      "source": [
        "# H2 Qual a duração média das músicas variando ao longo do tempo?"
      ]
    },
    {
      "cell_type": "code",
      "execution_count": null,
      "metadata": {
        "colab": {
          "base_uri": "https://localhost:8080/",
          "height": 369
        },
        "id": "d8tsuEUTuyq8",
        "outputId": "06625b8c-be57-4c97-a2c7-4801eede31fe",
        "scrolled": false
      },
      "outputs": [],
      "source": [
        "from matplotlib.ticker import MaxNLocator\n",
        "\n",
        "sns.lmplot(data = df_normalized, x = 'year', y = 'duration_ms',line_kws={'color': 'red'})\n",
        "ax = plt.gca()\n",
        "ax.set_title(\"Duração da música com o passar dos anos\", fontsize=18)\n",
        "ax.set_xlabel(\"Anos\")\n",
        "ax.set_ylabel(\"Duração da música (ms)\")\n",
        "ax.xaxis.set_major_locator(MaxNLocator(integer=True))\n",
        "plt.show()"
      ]
    },
    {
      "cell_type": "markdown",
      "metadata": {
        "id": "jBWxEFY1Bh27"
      },
      "source": [
        "# H3 Quais artistas possuem mais consistência em popularidade ao longo do tempo?"
      ]
    },
    {
      "cell_type": "code",
      "execution_count": null,
      "metadata": {
        "id": "iDBrI8dGuyq8",
        "outputId": "283d417e-a8f8-4278-ff6c-780d78d3f46c"
      },
      "outputs": [],
      "source": [
        "artist = df_normalized['artist'].value_counts()\n",
        "print(artist)"
      ]
    },
    {
      "cell_type": "code",
      "execution_count": null,
      "metadata": {
        "id": "Ib52IyAluyq9",
        "outputId": "7517111e-3532-4447-a5a0-fdc9bfbf4a8a"
      },
      "outputs": [],
      "source": [
        "top_artists = artist.head(5).index\n",
        "print(top_artists)\n",
        "\n",
        "top_genre = genre.head(5).index\n",
        "print(top_genre)"
      ]
    },
    {
      "cell_type": "code",
      "execution_count": null,
      "metadata": {
        "id": "W_5NOdGCuyq9",
        "outputId": "aba82852-13fb-439c-e3d1-799383c6d34d",
        "scrolled": false
      },
      "outputs": [],
      "source": [
        "song_by_year = df_normalized.groupby(['year']).size()\n",
        "song_by_year\n"
      ]
    },
    {
      "cell_type": "code",
      "execution_count": null,
      "metadata": {
        "id": "GkNgcjiFuyq9",
        "outputId": "0cd02d32-2f57-49dd-9a11-8be8057150dc"
      },
      "outputs": [],
      "source": [
        "song_by_year.plot(kind = 'bar')"
      ]
    },
    {
      "cell_type": "code",
      "execution_count": null,
      "metadata": {
        "id": "mBv8d75Puyq-",
        "outputId": "3b7943d7-e612-40f8-c8cc-c0b73f13b818",
        "scrolled": false
      },
      "outputs": [],
      "source": [
        "artist_popularity = df_normalized.groupby('artist')[['artist','popularity']].sum().sort_values('popularity',ascending=False)\n",
        "artist_popularity[:5]"
      ]
    },
    {
      "cell_type": "code",
      "execution_count": null,
      "metadata": {
        "id": "pc8WkUo3uyq-",
        "outputId": "c87e20e6-aee8-440a-dde4-ebb0dd56ae8d"
      },
      "outputs": [],
      "source": [
        "artist_popularity = df_normalized.groupby('artist')[['year','popularity','artist']].median().sort_values('popularity',ascending=False)\n",
        "artist_popularity\n"
      ]
    },
    {
      "cell_type": "code",
      "execution_count": null,
      "metadata": {
        "id": "k9yWZJATuyq-",
        "outputId": "076c3cb5-7bf5-4122-80c9-29c318b69b88",
        "scrolled": true
      },
      "outputs": [],
      "source": [
        "artist_danceability = df_normalized.groupby('artist')[['artist','danceability']].median().sort_values('danceability',ascending=False)\n",
        "artist_danceability"
      ]
    },
    {
      "cell_type": "code",
      "execution_count": null,
      "metadata": {
        "id": "tEQpI_ghuyq_",
        "outputId": "4aa73992-ac5c-4608-eb7c-0c2dcf1e9832",
        "scrolled": false
      },
      "outputs": [],
      "source": [
        "sns.lmplot(data = df_normalized, x = 'energy', y = 'loudness',line_kws={'color': 'red'})\n",
        "ax = plt.gca()\n",
        "ax.set_title(\"Energia da música com o volume sonoro\", fontsize=18)\n",
        "ax.set_xlabel(\"Energia\")\n",
        "ax.set_ylabel(\"Volume sonoro\")\n",
        "ax.xaxis.set_major_locator(MaxNLocator(integer=True))\n",
        "plt.show()"
      ]
    },
    {
      "cell_type": "code",
      "execution_count": null,
      "metadata": {
        "id": "PWjZONAiuyq_",
        "outputId": "0f708c55-f2fe-43bc-e500-5af72f3c1e27"
      },
      "outputs": [],
      "source": [
        "top_5_artists  = df_normalized['artist'].value_counts().head(5).index\n",
        "print(top_5_artists)\n",
        "\n",
        "list_top_5_artists = df_normalized[df_normalized['artist'].isin(top_5_artists)]\n",
        "list_top_5_artists\n"
      ]
    },
    {
      "cell_type": "code",
      "execution_count": null,
      "metadata": {
        "id": "n6K2izYwuyq_",
        "outputId": "0965dec8-16c5-40fb-ae81-21f3e9eee2b4"
      },
      "outputs": [],
      "source": [
        "top_10_artists = df_normalized['artist'].value_counts().head(10).index\n",
        "print(top_10_artists)\n",
        "\n",
        "list_top_10_artists= df_normalized[df_normalized['artist'].isin(top_10_artists)]\n",
        "list_top_10_artists"
      ]
    },
    {
      "cell_type": "code",
      "execution_count": null,
      "metadata": {
        "id": "UawGB40quyrA",
        "outputId": "79796d0b-00b8-4590-e838-38cb802cb2f1",
        "scrolled": false
      },
      "outputs": [],
      "source": [
        "sns.lmplot(data=list_top_5_artists, x='year', y='popularity', hue='artist')"
      ]
    },
    {
      "cell_type": "code",
      "execution_count": null,
      "metadata": {
        "id": "rAUELYC6uyrA",
        "outputId": "1085408a-0f80-41c0-bff0-f469ed1c634b"
      },
      "outputs": [],
      "source": [
        "sns.lmplot(data=list_top_10_artists, x='year', y='popularity', hue='artist')"
      ]
    },
    {
      "cell_type": "code",
      "execution_count": null,
      "metadata": {
        "id": "oQsKnZ3FuyrA",
        "outputId": "3a249674-4b7e-4725-f7d4-7a02c1449e7b",
        "scrolled": true
      },
      "outputs": [],
      "source": [
        "for i in ['popularity']:\n",
        "    g = sns.FacetGrid(list_top_5_artists, col=\"artist\")\n",
        "    g.map_dataframe(sns.lineplot, x='year', y=i)"
      ]
    },
    {
      "cell_type": "code",
      "execution_count": null,
      "metadata": {
        "id": "yU_AL-wTuyrA",
        "outputId": "ee99a88e-232a-4c28-e0ed-7c58c6f2284e",
        "scrolled": true
      },
      "outputs": [],
      "source": [
        "for i in ['popularity']:\n",
        "    g = sns.FacetGrid(list_top_10_artists, col=\"artist\")\n",
        "    g.map_dataframe(sns.lineplot, x='year', y=i)"
      ]
    },
    {
      "cell_type": "code",
      "execution_count": null,
      "metadata": {
        "id": "N0lhwrN3uyrA",
        "outputId": "9f90c754-56be-4774-aecb-f65567f65455",
        "scrolled": true
      },
      "outputs": [],
      "source": [
        "for i in ['explicit']:\n",
        "    g = sns.FacetGrid(list_top_5_artists, col=\"artist\")\n",
        "    g.map_dataframe(sns.barplot, x='year', y=i)"
      ]
    },
    {
      "cell_type": "code",
      "execution_count": null,
      "metadata": {
        "id": "NBAR0BUJuyrB",
        "outputId": "f4cc33b7-b16e-4b55-b1d2-d902f193efb0",
        "scrolled": true
      },
      "outputs": [],
      "source": [
        "for i in ['explicit']:\n",
        "    g = sns.FacetGrid(list_top_10_artists, col=\"artist\")\n",
        "    g.map_dataframe(sns.barplot, x='year', y=i)"
      ]
    },
    {
      "cell_type": "code",
      "execution_count": null,
      "metadata": {
        "id": "ZYuSfxbGuyrB",
        "outputId": "36962753-d98c-4e01-897d-0ffcc9ef9882"
      },
      "outputs": [],
      "source": [
        "for i in ['genre']:\n",
        "    g = sns.FacetGrid(list_top_5_artists, col=\"artist\")\n",
        "    g.map_dataframe(sns.scatterplot, x='year', y=i)"
      ]
    },
    {
      "cell_type": "code",
      "execution_count": null,
      "metadata": {
        "id": "4vrW9-3PuyrB",
        "outputId": "08938843-b5ea-4fcd-c711-4a72733e5675"
      },
      "outputs": [],
      "source": [
        "for i in ['danceability']:\n",
        "    g = sns.FacetGrid(list_top_5_artists, col=\"artist\")\n",
        "    g.map_dataframe(sns.lineplot, x='year', y=i)"
      ]
    },
    {
      "cell_type": "code",
      "execution_count": null,
      "metadata": {
        "id": "jakYqLfquyrB",
        "outputId": "1d422ee5-2c3d-45af-d5bc-a1b3764e019a"
      },
      "outputs": [],
      "source": [
        "for i in ['energy']:\n",
        "    g = sns.FacetGrid(list_top_5_artists, col=\"artist\")\n",
        "    g.map_dataframe(sns.lineplot, x='year', y=i)"
      ]
    },
    {
      "cell_type": "code",
      "execution_count": null,
      "metadata": {
        "id": "LBoIb9c1uyrB",
        "outputId": "7d76f6ca-af3e-4180-c404-0369aec8a009"
      },
      "outputs": [],
      "source": [
        "for i in ['energy']:\n",
        "    g = sns.FacetGrid(list_top_10_artists, col=\"artist\")\n",
        "    g.map_dataframe(sns.lineplot, x='year', y=i)"
      ]
    }
  ],
  "metadata": {
    "colab": {
      "name": "project-group-3.ipynb",
      "provenance": []
    },
    "kernelspec": {
      "display_name": "Python 3.8.10 64-bit",
      "language": "python",
      "name": "python3"
    },
    "language_info": {
      "codemirror_mode": {
        "name": "ipython",
        "version": 3
      },
      "file_extension": ".py",
      "mimetype": "text/x-python",
      "name": "python",
      "nbconvert_exporter": "python",
      "pygments_lexer": "ipython3",
      "version": "3.8.10"
    },
    "vscode": {
      "interpreter": {
        "hash": "916dbcbb3f70747c44a77c7bcd40155683ae19c65e1c03b4aa3499c5328201f1"
      }
    }
  },
  "nbformat": 4,
  "nbformat_minor": 0
}
